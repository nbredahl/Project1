{
 "cells": [
  {
   "cell_type": "code",
   "execution_count": 1,
   "metadata": {},
   "outputs": [],
   "source": [
    "#Importing necessary modules\n",
    "import os\n",
    "import csv\n",
    "import requests\n",
    "import pandas as pd\n",
    "import numpy as np\n",
    "import json\n",
    "import matplotlib.pyplot as plt\n",
    "from pprint import pprint\n",
    "#Setting up parameters for the API Key\n",
    "api_key='KMXu7o4jj9H_5fBmmoxcQUXUcjaIiDMpnabg34SZhyJUQPt-H6y8sfBIq8jI65xOovUH7cKhDpTUnvK2UIFOf1r5864boyx0PCcIwR4QQ1OeR8IWr5RO7UxW3HJoXXYx'\n",
    "headers = {'Authorization': 'Bearer %s' % api_key}\n",
    "#Defining the Business Search end point url\n",
    "url='https://api.yelp.com/v3/businesses/search'"
   ]
  },
  {
   "cell_type": "code",
   "execution_count": 2,
   "metadata": {},
   "outputs": [],
   "source": [
    "# In the dictionary, term can take values like food, cafes or businesses like McDonalds\n",
    "# Pulling Restaurant reviews for 4 major Cities \n",
    "cities =['New York','San Francisco','Houston','Chicago']\n",
    "restaurants = []\n",
    "for city in cities:\n",
    "    #Pulling 1000 responses for each City ( as 1000 is the allowed limit)\n",
    "        for offset in range(0,1000,50):\n",
    "            params = {'term':'restaurants','location':city,'sort_by':'distance','limit':50, 'offset':offset}\n",
    "            response = requests.get(url, params=params, headers=headers).json()\n",
    "            restaurants.append(dict(response))"
   ]
  },
  {
   "cell_type": "code",
   "execution_count": 3,
   "metadata": {},
   "outputs": [],
   "source": [
    "# pprint(restaurants[1])"
   ]
  },
  {
   "cell_type": "code",
   "execution_count": 4,
   "metadata": {},
   "outputs": [],
   "source": [
    "#Defining empty dictionary to save only required elements\n",
    "final = {}\n",
    "#Defining Empty list to append all the data \n",
    "data = []\n",
    "\n",
    "for restaurant in restaurants:\n",
    "    try:\n",
    "        for item in restaurant['businesses']:\n",
    "            final['Restaurant Name'] = item['name']\n",
    "            final['City'] = item['location']['city']\n",
    "            final['Rating'] = item['rating']\n",
    "            final['Reviews'] = item['review_count']\n",
    "            try:\n",
    "                final['Price'] = item['price']\n",
    "            except:\n",
    "                final['Price'] = float('nan')\n",
    "            data.append(dict(final))\n",
    "    except:   \n",
    "        restaurant['businesses'] = float('nan')"
   ]
  },
  {
   "cell_type": "code",
   "execution_count": 5,
   "metadata": {},
   "outputs": [
    {
     "data": {
      "text/html": [
       "<div>\n",
       "<style scoped>\n",
       "    .dataframe tbody tr th:only-of-type {\n",
       "        vertical-align: middle;\n",
       "    }\n",
       "\n",
       "    .dataframe tbody tr th {\n",
       "        vertical-align: top;\n",
       "    }\n",
       "\n",
       "    .dataframe thead th {\n",
       "        text-align: right;\n",
       "    }\n",
       "</style>\n",
       "<table border=\"1\" class=\"dataframe\">\n",
       "  <thead>\n",
       "    <tr style=\"text-align: right;\">\n",
       "      <th></th>\n",
       "      <th>City</th>\n",
       "      <th>Price</th>\n",
       "      <th>Rating</th>\n",
       "      <th>Restaurant Name</th>\n",
       "      <th>Reviews</th>\n",
       "    </tr>\n",
       "  </thead>\n",
       "  <tbody>\n",
       "    <tr>\n",
       "      <th>0</th>\n",
       "      <td>Brooklyn</td>\n",
       "      <td>$</td>\n",
       "      <td>4.5</td>\n",
       "      <td>Born &amp; Raised NYC</td>\n",
       "      <td>6</td>\n",
       "    </tr>\n",
       "    <tr>\n",
       "      <th>1</th>\n",
       "      <td>New York</td>\n",
       "      <td>NaN</td>\n",
       "      <td>4.0</td>\n",
       "      <td>Landhaus</td>\n",
       "      <td>1</td>\n",
       "    </tr>\n",
       "    <tr>\n",
       "      <th>2</th>\n",
       "      <td>Brooklyn</td>\n",
       "      <td>$$</td>\n",
       "      <td>4.0</td>\n",
       "      <td>Luke's Lobster Brooklyn Bridge Park</td>\n",
       "      <td>303</td>\n",
       "    </tr>\n",
       "    <tr>\n",
       "      <th>3</th>\n",
       "      <td>Brooklyn</td>\n",
       "      <td>$$$</td>\n",
       "      <td>4.0</td>\n",
       "      <td>Sugarcane Raw Bar Grill</td>\n",
       "      <td>508</td>\n",
       "    </tr>\n",
       "    <tr>\n",
       "      <th>4</th>\n",
       "      <td>Brooklyn</td>\n",
       "      <td>$</td>\n",
       "      <td>3.5</td>\n",
       "      <td>Calexico Taco / Burrito Cart</td>\n",
       "      <td>28</td>\n",
       "    </tr>\n",
       "  </tbody>\n",
       "</table>\n",
       "</div>"
      ],
      "text/plain": [
       "       City Price  Rating                      Restaurant Name  Reviews\n",
       "0  Brooklyn     $     4.5                    Born & Raised NYC        6\n",
       "1  New York   NaN     4.0                             Landhaus        1\n",
       "2  Brooklyn    $$     4.0  Luke's Lobster Brooklyn Bridge Park      303\n",
       "3  Brooklyn   $$$     4.0              Sugarcane Raw Bar Grill      508\n",
       "4  Brooklyn     $     3.5         Calexico Taco / Burrito Cart       28"
      ]
     },
     "execution_count": 5,
     "metadata": {},
     "output_type": "execute_result"
    }
   ],
   "source": [
    "#Creating a DataFrame to save the Rating,Reviews , Price etc for 5000 restaurants per City\n",
    "restaurants_df = pd.DataFrame(data)\n",
    "restaurants_df.head()"
   ]
  },
  {
   "cell_type": "code",
   "execution_count": 6,
   "metadata": {},
   "outputs": [
    {
     "data": {
      "text/html": [
       "<div>\n",
       "<style scoped>\n",
       "    .dataframe tbody tr th:only-of-type {\n",
       "        vertical-align: middle;\n",
       "    }\n",
       "\n",
       "    .dataframe tbody tr th {\n",
       "        vertical-align: top;\n",
       "    }\n",
       "\n",
       "    .dataframe thead th {\n",
       "        text-align: right;\n",
       "    }\n",
       "</style>\n",
       "<table border=\"1\" class=\"dataframe\">\n",
       "  <thead>\n",
       "    <tr style=\"text-align: right;\">\n",
       "      <th></th>\n",
       "      <th>City</th>\n",
       "      <th>Price</th>\n",
       "      <th>Rating</th>\n",
       "      <th>Restaurant Name</th>\n",
       "      <th>Reviews</th>\n",
       "    </tr>\n",
       "  </thead>\n",
       "  <tbody>\n",
       "    <tr>\n",
       "      <th>0</th>\n",
       "      <td>Brooklyn</td>\n",
       "      <td>$</td>\n",
       "      <td>4.5</td>\n",
       "      <td>Born &amp; Raised NYC</td>\n",
       "      <td>6</td>\n",
       "    </tr>\n",
       "    <tr>\n",
       "      <th>2</th>\n",
       "      <td>Brooklyn</td>\n",
       "      <td>$$</td>\n",
       "      <td>4.0</td>\n",
       "      <td>Luke's Lobster Brooklyn Bridge Park</td>\n",
       "      <td>303</td>\n",
       "    </tr>\n",
       "    <tr>\n",
       "      <th>3</th>\n",
       "      <td>Brooklyn</td>\n",
       "      <td>$$$</td>\n",
       "      <td>4.0</td>\n",
       "      <td>Sugarcane Raw Bar Grill</td>\n",
       "      <td>508</td>\n",
       "    </tr>\n",
       "    <tr>\n",
       "      <th>4</th>\n",
       "      <td>Brooklyn</td>\n",
       "      <td>$</td>\n",
       "      <td>3.5</td>\n",
       "      <td>Calexico Taco / Burrito Cart</td>\n",
       "      <td>28</td>\n",
       "    </tr>\n",
       "    <tr>\n",
       "      <th>5</th>\n",
       "      <td>Brooklyn</td>\n",
       "      <td>$$</td>\n",
       "      <td>3.0</td>\n",
       "      <td>Ignazio's</td>\n",
       "      <td>498</td>\n",
       "    </tr>\n",
       "  </tbody>\n",
       "</table>\n",
       "</div>"
      ],
      "text/plain": [
       "       City Price  Rating                      Restaurant Name  Reviews\n",
       "0  Brooklyn     $     4.5                    Born & Raised NYC        6\n",
       "2  Brooklyn    $$     4.0  Luke's Lobster Brooklyn Bridge Park      303\n",
       "3  Brooklyn   $$$     4.0              Sugarcane Raw Bar Grill      508\n",
       "4  Brooklyn     $     3.5         Calexico Taco / Burrito Cart       28\n",
       "5  Brooklyn    $$     3.0                            Ignazio's      498"
      ]
     },
     "execution_count": 6,
     "metadata": {},
     "output_type": "execute_result"
    }
   ],
   "source": [
    "#Dropping Nan values\n",
    "restaurants_df.dropna(axis='index',how='any',inplace=True)\n",
    "restaurants_df.reset_index(drop=True)\n",
    "restaurants_df.head()"
   ]
  },
  {
   "cell_type": "code",
   "execution_count": 7,
   "metadata": {},
   "outputs": [
    {
     "data": {
      "text/plain": [
       "4.0    1246\n",
       "3.5     797\n",
       "4.5     519\n",
       "3.0     320\n",
       "2.5     184\n",
       "2.0      99\n",
       "5.0      60\n",
       "1.5      37\n",
       "1.0      14\n",
       "Name: Rating, dtype: int64"
      ]
     },
     "execution_count": 7,
     "metadata": {},
     "output_type": "execute_result"
    }
   ],
   "source": [
    "restaurants_df['Rating'].value_counts()"
   ]
  },
  {
   "cell_type": "code",
   "execution_count": 8,
   "metadata": {},
   "outputs": [],
   "source": [
    "newyork_df = restaurants_df[restaurants_df['City']=='New York']\n",
    "chicago_df = restaurants_df[restaurants_df['City']=='Chicago']\n",
    "houston_df = restaurants_df[restaurants_df['City']=='Houston']\n",
    "sanfran_df = restaurants_df[restaurants_df['City']=='San Francisco']\n",
    "# newyork_df['City'].unique()"
   ]
  },
  {
   "cell_type": "markdown",
   "metadata": {},
   "source": [
    "# Plotting"
   ]
  },
  {
   "cell_type": "code",
   "execution_count": 9,
   "metadata": {},
   "outputs": [
    {
     "data": {
      "text/html": [
       "<div>\n",
       "<style scoped>\n",
       "    .dataframe tbody tr th:only-of-type {\n",
       "        vertical-align: middle;\n",
       "    }\n",
       "\n",
       "    .dataframe tbody tr th {\n",
       "        vertical-align: top;\n",
       "    }\n",
       "\n",
       "    .dataframe thead th {\n",
       "        text-align: right;\n",
       "    }\n",
       "</style>\n",
       "<table border=\"1\" class=\"dataframe\">\n",
       "  <thead>\n",
       "    <tr style=\"text-align: right;\">\n",
       "      <th></th>\n",
       "      <th>City</th>\n",
       "      <th>Price</th>\n",
       "      <th>Rating</th>\n",
       "      <th>Restaurant Name</th>\n",
       "      <th>Reviews</th>\n",
       "      <th>Price Values</th>\n",
       "    </tr>\n",
       "  </thead>\n",
       "  <tbody>\n",
       "    <tr>\n",
       "      <th>0</th>\n",
       "      <td>Brooklyn</td>\n",
       "      <td>$</td>\n",
       "      <td>4.5</td>\n",
       "      <td>Born &amp; Raised NYC</td>\n",
       "      <td>6</td>\n",
       "      <td>1</td>\n",
       "    </tr>\n",
       "    <tr>\n",
       "      <th>2</th>\n",
       "      <td>Brooklyn</td>\n",
       "      <td>$$</td>\n",
       "      <td>4.0</td>\n",
       "      <td>Luke's Lobster Brooklyn Bridge Park</td>\n",
       "      <td>303</td>\n",
       "      <td>2</td>\n",
       "    </tr>\n",
       "    <tr>\n",
       "      <th>3</th>\n",
       "      <td>Brooklyn</td>\n",
       "      <td>$$$</td>\n",
       "      <td>4.0</td>\n",
       "      <td>Sugarcane Raw Bar Grill</td>\n",
       "      <td>508</td>\n",
       "      <td>3</td>\n",
       "    </tr>\n",
       "    <tr>\n",
       "      <th>4</th>\n",
       "      <td>Brooklyn</td>\n",
       "      <td>$</td>\n",
       "      <td>3.5</td>\n",
       "      <td>Calexico Taco / Burrito Cart</td>\n",
       "      <td>28</td>\n",
       "      <td>1</td>\n",
       "    </tr>\n",
       "    <tr>\n",
       "      <th>5</th>\n",
       "      <td>Brooklyn</td>\n",
       "      <td>$$</td>\n",
       "      <td>3.0</td>\n",
       "      <td>Ignazio's</td>\n",
       "      <td>498</td>\n",
       "      <td>2</td>\n",
       "    </tr>\n",
       "  </tbody>\n",
       "</table>\n",
       "</div>"
      ],
      "text/plain": [
       "       City Price  Rating                      Restaurant Name  Reviews  \\\n",
       "0  Brooklyn     $     4.5                    Born & Raised NYC        6   \n",
       "2  Brooklyn    $$     4.0  Luke's Lobster Brooklyn Bridge Park      303   \n",
       "3  Brooklyn   $$$     4.0              Sugarcane Raw Bar Grill      508   \n",
       "4  Brooklyn     $     3.5         Calexico Taco / Burrito Cart       28   \n",
       "5  Brooklyn    $$     3.0                            Ignazio's      498   \n",
       "\n",
       "   Price Values  \n",
       "0             1  \n",
       "2             2  \n",
       "3             3  \n",
       "4             1  \n",
       "5             2  "
      ]
     },
     "execution_count": 9,
     "metadata": {},
     "output_type": "execute_result"
    }
   ],
   "source": [
    "restaurants_df['Price Values'] = restaurants_df['Price'].replace({'$': 1,'£': 1, '$$':2,'££': 2, '$$$':3, '$$$$':4})\n",
    "restaurants_df.head()"
   ]
  },
  {
   "cell_type": "code",
   "execution_count": 10,
   "metadata": {},
   "outputs": [
    {
     "data": {
      "text/plain": [
       "[3.541132075471698, 3.7788683602771362, 3.889830508474576, 4.071428571428571]"
      ]
     },
     "execution_count": 10,
     "metadata": {},
     "output_type": "execute_result"
    }
   ],
   "source": [
    "# Convert Average Rating to List\n",
    "average_ratings = pd.DataFrame(restaurants_df.groupby('Price Values')['Rating'].mean())\n",
    "average_rating = average_ratings['Rating'].tolist()\n",
    "average_rating"
   ]
  },
  {
   "cell_type": "code",
   "execution_count": 11,
   "metadata": {},
   "outputs": [
    {
     "data": {
      "text/plain": [
       "([<matplotlib.axis.XTick at 0x1bcfd25b9e8>,\n",
       "  <matplotlib.axis.XTick at 0x1bcfd25b2e8>,\n",
       "  <matplotlib.axis.XTick at 0x1bcfd4e79b0>,\n",
       "  <matplotlib.axis.XTick at 0x1bcfd4fa828>],\n",
       " <a list of 4 Text xticklabel objects>)"
      ]
     },
     "execution_count": 11,
     "metadata": {},
     "output_type": "execute_result"
    },
    {
     "data": {
      "image/png": "[encoded data removed]",
      "text/plain": [
       "<Figure size 432x288 with 1 Axes>"
      ]
     },
     "metadata": {
      "needs_background": "light"
     },
     "output_type": "display_data"
    }
   ],
   "source": [
    "#Plot for Average Rating vs Price Range \n",
    "price = [\"$1-$10\", \"$11-$20\", \"$21-$30\", \" $31+\"]\n",
    "x_axis = np.arange(len(average_rating))\n",
    "# average_rating = [3.937057, 3.792747, 3.904517, 4.031915]\n",
    "plt.bar(x_axis, average_rating, color=\"b\", align=\"center\")\n",
    "plt.title('Average Rating per Price Range')\n",
    "plt.ylabel('Average Rating')\n",
    "plt.xlabel('Price Range')\n",
    "tick_locations = [value for value in x_axis]\n",
    "plt.xticks(tick_locations, price )"
   ]
  },
  {
   "cell_type": "code",
   "execution_count": 12,
   "metadata": {},
   "outputs": [
    {
     "data": {
      "text/plain": [
       "[162.9011320754717, 411.1258660508083, 631.3559322033898, 335.1666666666667]"
      ]
     },
     "execution_count": 12,
     "metadata": {},
     "output_type": "execute_result"
    }
   ],
   "source": [
    "average_reviews = pd.DataFrame(restaurants_df.groupby('Price Values')['Reviews'].mean())\n",
    "average_review = average_reviews['Reviews'].tolist()\n",
    "average_review"
   ]
  },
  {
   "cell_type": "code",
   "execution_count": 13,
   "metadata": {
    "scrolled": true
   },
   "outputs": [
    {
     "data": {
      "text/plain": [
       "([<matplotlib.axis.XTick at 0x1bcfd535c88>,\n",
       "  <matplotlib.axis.XTick at 0x1bcfe544518>,\n",
       "  <matplotlib.axis.XTick at 0x1bcfe59f160>,\n",
       "  <matplotlib.axis.XTick at 0x1bcfe5eebe0>],\n",
       " <a list of 4 Text xticklabel objects>)"
      ]
     },
     "execution_count": 13,
     "metadata": {},
     "output_type": "execute_result"
    },
    {
     "data": {
      "image/png": "[encoded data removed]",
      "text/plain": [
       "<Figure size 432x288 with 1 Axes>"
      ]
     },
     "metadata": {
      "needs_background": "light"
     },
     "output_type": "display_data"
    }
   ],
   "source": [
    "# Plot for Average Reviews for Price Range\n",
    "# average_reviews = [759.363475, 894.756482, 1135.550308, 1168.212766]\n",
    "x_axis = np.arange(len(average_review))\n",
    "plt.bar(x_axis, average_review, color=\"g\", align=\"center\")\n",
    "plt.title('Average Review Count per Price Range')\n",
    "plt.ylabel('Average Review Count')\n",
    "plt.xlabel('Price Range')\n",
    "tick_locations = [value for value in x_axis]\n",
    "plt.xticks(tick_locations, price )"
   ]
  },
  {
   "cell_type": "code",
   "execution_count": 14,
   "metadata": {},
   "outputs": [],
   "source": [
    "average_reviews_ratings = pd.DataFrame(restaurants_df.groupby('Rating')['Reviews'].mean())\n",
    "average_reviews_ratings\n",
    "average_rating = average_reviews_ratings['Reviews'].tolist()"
   ]
  },
  {
   "cell_type": "code",
   "execution_count": 15,
   "metadata": {},
   "outputs": [
    {
     "data": {
      "text/plain": [
       "([<matplotlib.axis.XTick at 0x1bcfe629b38>,\n",
       "  <matplotlib.axis.XTick at 0x1bcfe606160>,\n",
       "  <matplotlib.axis.XTick at 0x1bcfe5f8eb8>,\n",
       "  <matplotlib.axis.XTick at 0x1bcfe685208>,\n",
       "  <matplotlib.axis.XTick at 0x1bcfe6856d8>,\n",
       "  <matplotlib.axis.XTick at 0x1bcfe685c50>,\n",
       "  <matplotlib.axis.XTick at 0x1bcfe68b208>,\n",
       "  <matplotlib.axis.XTick at 0x1bcfe68b780>,\n",
       "  <matplotlib.axis.XTick at 0x1bcfe68bcf8>],\n",
       " <a list of 8 Text xticklabel objects>)"
      ]
     },
     "execution_count": 15,
     "metadata": {},
     "output_type": "execute_result"
    },
    {
     "data": {
      "image/png": "[encoded data removed]",
      "text/plain": [
       "<Figure size 432x288 with 1 Axes>"
      ]
     },
     "metadata": {
      "needs_background": "light"
     },
     "output_type": "display_data"
    }
   ],
   "source": [
    "rating = [\"1.5\", \"2\", \"2.5\", \"3\", \"3.5\", \"4\", \"4.5\", \"5\"]\n",
    "\n",
    "# average_reviews_rating = [300.000000, 429.545455, 547.840909, 657.438017, 805.779777, 1004.157484, 950.435789, 647.750000]\n",
    "x_axis = np.arange(len(average_rating))\n",
    "plt.bar(x_axis, average_rating, color=\"r\", align=\"center\")\n",
    "\n",
    "plt.title('Average Review Count vs Average Rating')\n",
    "plt.ylabel('Average Review Count')\n",
    "plt.xlabel('Rating')\n",
    "tick_locations = [value for value in x_axis]\n",
    "\n",
    "plt.xticks(tick_locations, rating )"
   ]
  },
  {
   "cell_type": "code",
   "execution_count": 16,
   "metadata": {},
   "outputs": [
    {
     "data": {
      "image/png": "[encoded data removed]",
      "text/plain": [
       "<Figure size 432x288 with 1 Axes>"
      ]
     },
     "metadata": {
      "needs_background": "light"
     },
     "output_type": "display_data"
    }
   ],
   "source": [
    "plt.scatter(restaurants_df[\"Price Values\"], restaurants_df[\"Rating\"], color=\"blue\")\n",
    "plt.title(\"Price vs. Rating\")\n",
    "plt.xlabel(\"Price\")\n",
    "plt.ylabel(\"Rating\")\n",
    "plt.show()"
   ]
  },
  {
   "cell_type": "code",
   "execution_count": 17,
   "metadata": {},
   "outputs": [
    {
     "data": {
      "text/html": [
       "<div>\n",
       "<style scoped>\n",
       "    .dataframe tbody tr th:only-of-type {\n",
       "        vertical-align: middle;\n",
       "    }\n",
       "\n",
       "    .dataframe tbody tr th {\n",
       "        vertical-align: top;\n",
       "    }\n",
       "\n",
       "    .dataframe thead th {\n",
       "        text-align: right;\n",
       "    }\n",
       "</style>\n",
       "<table border=\"1\" class=\"dataframe\">\n",
       "  <thead>\n",
       "    <tr style=\"text-align: right;\">\n",
       "      <th></th>\n",
       "      <th>Reviews</th>\n",
       "    </tr>\n",
       "    <tr>\n",
       "      <th>Price Values</th>\n",
       "      <th></th>\n",
       "    </tr>\n",
       "  </thead>\n",
       "  <tbody>\n",
       "    <tr>\n",
       "      <th>1</th>\n",
       "      <td>162.901132</td>\n",
       "    </tr>\n",
       "    <tr>\n",
       "      <th>2</th>\n",
       "      <td>411.125866</td>\n",
       "    </tr>\n",
       "    <tr>\n",
       "      <th>3</th>\n",
       "      <td>631.355932</td>\n",
       "    </tr>\n",
       "    <tr>\n",
       "      <th>4</th>\n",
       "      <td>335.166667</td>\n",
       "    </tr>\n",
       "  </tbody>\n",
       "</table>\n",
       "</div>"
      ],
      "text/plain": [
       "                 Reviews\n",
       "Price Values            \n",
       "1             162.901132\n",
       "2             411.125866\n",
       "3             631.355932\n",
       "4             335.166667"
      ]
     },
     "execution_count": 17,
     "metadata": {},
     "output_type": "execute_result"
    }
   ],
   "source": [
    "# Plots of Price vs. Average Number of Reviews\n",
    "\n",
    "average_reviews = pd.DataFrame(restaurants_df.groupby('Price Values')['Reviews'].mean())\n",
    "average_reviews"
   ]
  },
  {
   "cell_type": "code",
   "execution_count": 18,
   "metadata": {},
   "outputs": [
    {
     "data": {
      "image/png": "[encoded data removed]",
      "text/plain": [
       "<Figure size 432x288 with 1 Axes>"
      ]
     },
     "metadata": {
      "needs_background": "light"
     },
     "output_type": "display_data"
    }
   ],
   "source": [
    "plt.scatter(restaurants_df[\"Price Values\"], restaurants_df[\"Reviews\"], color=\"green\")\n",
    "plt.title(\"Price vs. Reviews\")\n",
    "plt.xlabel(\"Price\")\n",
    "plt.ylabel(\"Average Number of Reviews\")\n",
    "plt.show()"
   ]
  },
  {
   "cell_type": "code",
   "execution_count": 19,
   "metadata": {},
   "outputs": [
    {
     "data": {
      "text/html": [
       "<div>\n",
       "<style scoped>\n",
       "    .dataframe tbody tr th:only-of-type {\n",
       "        vertical-align: middle;\n",
       "    }\n",
       "\n",
       "    .dataframe tbody tr th {\n",
       "        vertical-align: top;\n",
       "    }\n",
       "\n",
       "    .dataframe thead th {\n",
       "        text-align: right;\n",
       "    }\n",
       "</style>\n",
       "<table border=\"1\" class=\"dataframe\">\n",
       "  <thead>\n",
       "    <tr style=\"text-align: right;\">\n",
       "      <th></th>\n",
       "      <th>Reviews</th>\n",
       "    </tr>\n",
       "    <tr>\n",
       "      <th>Rating</th>\n",
       "      <th></th>\n",
       "    </tr>\n",
       "  </thead>\n",
       "  <tbody>\n",
       "    <tr>\n",
       "      <th>1.0</th>\n",
       "      <td>3.357143</td>\n",
       "    </tr>\n",
       "    <tr>\n",
       "      <th>1.5</th>\n",
       "      <td>33.243243</td>\n",
       "    </tr>\n",
       "    <tr>\n",
       "      <th>2.0</th>\n",
       "      <td>42.525253</td>\n",
       "    </tr>\n",
       "    <tr>\n",
       "      <th>2.5</th>\n",
       "      <td>65.641304</td>\n",
       "    </tr>\n",
       "    <tr>\n",
       "      <th>3.0</th>\n",
       "      <td>158.303125</td>\n",
       "    </tr>\n",
       "    <tr>\n",
       "      <th>3.5</th>\n",
       "      <td>322.318695</td>\n",
       "    </tr>\n",
       "    <tr>\n",
       "      <th>4.0</th>\n",
       "      <td>459.188604</td>\n",
       "    </tr>\n",
       "    <tr>\n",
       "      <th>4.5</th>\n",
       "      <td>295.152216</td>\n",
       "    </tr>\n",
       "    <tr>\n",
       "      <th>5.0</th>\n",
       "      <td>54.966667</td>\n",
       "    </tr>\n",
       "  </tbody>\n",
       "</table>\n",
       "</div>"
      ],
      "text/plain": [
       "           Reviews\n",
       "Rating            \n",
       "1.0       3.357143\n",
       "1.5      33.243243\n",
       "2.0      42.525253\n",
       "2.5      65.641304\n",
       "3.0     158.303125\n",
       "3.5     322.318695\n",
       "4.0     459.188604\n",
       "4.5     295.152216\n",
       "5.0      54.966667"
      ]
     },
     "execution_count": 19,
     "metadata": {},
     "output_type": "execute_result"
    }
   ],
   "source": [
    "# Plots of Rating vs. Average Number of Reviews\n",
    "\n",
    "average_reviews_rating = pd.DataFrame(restaurants_df.groupby('Rating')['Reviews'].mean())\n",
    "average_reviews_rating"
   ]
  },
  {
   "cell_type": "code",
   "execution_count": 20,
   "metadata": {},
   "outputs": [
    {
     "data": {
      "image/png": "[encoded data removed]",
      "text/plain": [
       "<Figure size 432x288 with 1 Axes>"
      ]
     },
     "metadata": {
      "needs_background": "light"
     },
     "output_type": "display_data"
    }
   ],
   "source": [
    "plt.scatter(restaurants_df[\"Rating\"], restaurants_df[\"Reviews\"], color=\"red\")\n",
    "plt.title(\"Rating vs. Reviews\")\n",
    "plt.xlabel(\"Rating\")\n",
    "plt.ylabel(\"Number of Reviews\")\n",
    "plt.show()"
   ]
  },
  {
   "cell_type": "code",
   "execution_count": 21,
   "metadata": {
    "scrolled": true
   },
   "outputs": [
    {
     "data": {
      "image/png": "[encoded data removed]",
      "text/plain": [
       "<Figure size 432x288 with 1 Axes>"
      ]
     },
     "metadata": {
      "needs_background": "light"
     },
     "output_type": "display_data"
    }
   ],
   "source": [
    "plt.scatter(newyork_df[\"Rating\"], newyork_df[\"Reviews\"], color=\"red\")\n",
    "plt.title(\"Rating vs. Reviews (New York)\")\n",
    "plt.xlabel(\"Rating\")\n",
    "plt.ylabel(\"Number of Reviews\")\n",
    "plt.show()"
   ]
  },
  {
   "cell_type": "code",
   "execution_count": 22,
   "metadata": {},
   "outputs": [
    {
     "data": {
      "image/png": "[encoded data removed]",
      "text/plain": [
       "<Figure size 432x288 with 1 Axes>"
      ]
     },
     "metadata": {
      "needs_background": "light"
     },
     "output_type": "display_data"
    }
   ],
   "source": [
    "plt.scatter(chicago_df[\"Rating\"], chicago_df[\"Reviews\"], color=\"red\")\n",
    "plt.title(\"Rating vs. Reviews (Chicago)\")\n",
    "plt.xlabel(\"Rating\")\n",
    "plt.ylabel(\"Number of Reviews\")\n",
    "plt.show()"
   ]
  },
  {
   "cell_type": "code",
   "execution_count": 23,
   "metadata": {},
   "outputs": [
    {
     "data": {
      "image/png": "[encoded data removed]",
      "text/plain": [
       "<Figure size 432x288 with 1 Axes>"
      ]
     },
     "metadata": {
      "needs_background": "light"
     },
     "output_type": "display_data"
    }
   ],
   "source": [
    "plt.scatter(houston_df[\"Rating\"], houston_df[\"Reviews\"], color=\"red\")\n",
    "plt.title(\"Rating vs. Reviews (Houston)\")\n",
    "plt.xlabel(\"Rating\")\n",
    "plt.ylabel(\"Number of Reviews\")\n",
    "plt.show()"
   ]
  },
  {
   "cell_type": "code",
   "execution_count": 24,
   "metadata": {},
   "outputs": [
    {
     "data": {
      "image/png": "[encoded data removed]",
      "text/plain": [
       "<Figure size 432x288 with 1 Axes>"
      ]
     },
     "metadata": {
      "needs_background": "light"
     },
     "output_type": "display_data"
    }
   ],
   "source": [
    "plt.scatter(sanfran_df[\"Rating\"], sanfran_df[\"Reviews\"], color=\"red\")\n",
    "plt.title(\"Rating vs. Reviews (San Francisco)\")\n",
    "plt.xlabel(\"Rating\")\n",
    "plt.ylabel(\"Number of Reviews\")\n",
    "plt.show()"
   ]
  },
  {
   "cell_type": "code",
   "execution_count": 25,
   "metadata": {},
   "outputs": [
    {
     "data": {
      "text/plain": [
       "Text(0.5, 1.0, 'Review Percentage per city')"
      ]
     },
     "execution_count": 25,
     "metadata": {},
     "output_type": "execute_result"
    },
    {
     "data": {
      "image/png": "[encoded data removed]",
      "text/plain": [
       "<Figure size 432x288 with 1 Axes>"
      ]
     },
     "metadata": {},
     "output_type": "display_data"
    }
   ],
   "source": [
    "#Pie Chart Review Percentage per city\n",
    "# newyork_totalreviews = newyork_df['Reviews'].sum()\n",
    "# chicago_totalreviews = chicago_df['Reviews'].sum()\n",
    "# houston_totalreviews = houston_df['Reviews'].sum()\n",
    "# sanfran_totalreviews = sanfran_df['Reviews'].sum()\n",
    "totalreviews = []\n",
    "totalreviews.append(newyork_df['Reviews'].sum())\n",
    "totalreviews.append(chicago_df['Reviews'].sum())\n",
    "totalreviews.append(houston_df['Reviews'].sum())\n",
    "totalreviews.append(sanfran_df['Reviews'].sum())\n",
    "labels = ['New York', 'Chicago','Houston', 'San Fransisco']\n",
    "colors = ['Red', 'Blue', 'Yellow' , 'Green']\n",
    "plt.pie(totalreviews, labels = labels, colors = colors, autopct = '%1.1f%%', startangle = 90, shadow = True)\n",
    "plt.title('Review Percentage per city')\n"
   ]
  },
  {
   "cell_type": "code",
   "execution_count": null,
   "metadata": {},
   "outputs": [],
   "source": []
  },
  {
   "cell_type": "code",
   "execution_count": null,
   "metadata": {},
   "outputs": [],
   "source": []
  }
 ],
 "metadata": {
  "kernelspec": {
   "display_name": "Python 3",
   "language": "python",
   "name": "python3"
  },
  "language_info": {
   "codemirror_mode": {
    "name": "ipython",
    "version": 3
   },
   "file_extension": ".py",
   "mimetype": "text/x-python",
   "name": "python",
   "nbconvert_exporter": "python",
   "pygments_lexer": "ipython3",
   "version": "3.7.3"
  }
 },
 "nbformat": 4,
 "nbformat_minor": 2
}
